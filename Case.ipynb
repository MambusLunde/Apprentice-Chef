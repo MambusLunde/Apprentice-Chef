{
 "metadata": {
  "language_info": {
   "codemirror_mode": {
    "name": "ipython",
    "version": 3
   },
   "file_extension": ".py",
   "mimetype": "text/x-python",
   "name": "python",
   "nbconvert_exporter": "python",
   "pygments_lexer": "ipython3",
   "version": "3.7.6-final"
  },
  "orig_nbformat": 2,
  "kernelspec": {
   "name": "Python 3.7.6 64-bit ('base': conda)",
   "display_name": "Python 3.7.6 64-bit ('base': conda)",
   "metadata": {
    "interpreter": {
     "hash": "4b5048cf5f5120027c0ad2e09b00178c342cc401160a2aa2856f02c9fe0ef074"
    }
   }
  }
 },
 "nbformat": 4,
 "nbformat_minor": 2,
 "cells": [
  {
   "source": [
    "# Apprentice Chef, round two\n",
    "\n",
    "I wanted to see if I can improve on what I did when I first started ML. We were given two assignments to do with this dataset:\n",
    "\n",
    "1. Estimate the revenue brought in by a customer.\n",
    "\n",
    "2. Classify whether a customer would be succeptible to cross-selling of a different service.\n",
    "\n",
    "While in school I reached an r-squared of 0.80 for task 1, and an auc score of 0.797 for task 2. I will admit that reaching scores of 0.8 on these was the difference between a B and a C, while 0.9 was required for an A. Let's see if we can get that! \n",
    "\n",
    "I'll be using this notebook for exploratory analysis and a final write-up, while the rest of the code will be in scripts."
   ],
   "cell_type": "markdown",
   "metadata": {}
  },
  {
   "source": [
    "## Exploratory analysis\n",
    "\n",
    "I'll begin by importing and looking at the data, see if there are any interesting ideas that pop out."
   ],
   "cell_type": "markdown",
   "metadata": {}
  },
  {
   "cell_type": "code",
   "execution_count": 2,
   "metadata": {},
   "outputs": [],
   "source": [
    "import pandas as pd                 # Data science essentials\n",
    "import matplotlib as plt            # Plotting essentials\n",
    "import seaborn as sns               # More advanced plotting\n",
    "\n",
    "from IPython.display import clear_output        # Clear output to keep things clean\n"
   ]
  },
  {
   "cell_type": "code",
   "execution_count": 3,
   "metadata": {},
   "outputs": [],
   "source": [
    "dataset = pd.read_excel('Datasets/Apprentice_Chef_Dataset.xlsx')\n"
   ]
  },
  {
   "source": [
    "First we need to make sure that the data is in the correct type. What data is numerical and what is categorical?\\n\n",
    "For this I'll make a type dictionary."
   ],
   "cell_type": "markdown",
   "metadata": {}
  },
  {
   "cell_type": "code",
   "execution_count": 4,
   "metadata": {},
   "outputs": [
    {
     "output_type": "stream",
     "name": "stdout",
     "text": [
      "<class 'pandas.core.frame.DataFrame'>\nRangeIndex: 1946 entries, 0 to 1945\nData columns (total 29 columns):\n #   Column                        Non-Null Count  Dtype  \n---  ------                        --------------  -----  \n 0   REVENUE                       1946 non-null   float64\n 1   CROSS_SELL_SUCCESS            1946 non-null   object \n 2   NAME                          1946 non-null   object \n 3   EMAIL                         1946 non-null   object \n 4   FIRST_NAME                    1946 non-null   object \n 5   FAMILY_NAME                   1899 non-null   object \n 6   TOTAL_MEALS_ORDERED           1946 non-null   int64  \n 7   UNIQUE_MEALS_PURCH            1946 non-null   int64  \n 8   CONTACTS_W_CUSTOMER_SERVICE   1946 non-null   int64  \n 9   PRODUCT_CATEGORIES_VIEWED     1946 non-null   int64  \n 10  AVG_TIME_PER_SITE_VISIT       1946 non-null   float64\n 11  MOBILE_NUMBER                 1946 non-null   object \n 12  CANCELLATIONS_BEFORE_NOON     1946 non-null   int64  \n 13  CANCELLATIONS_AFTER_NOON      1946 non-null   int64  \n 14  TASTES_AND_PREFERENCES        1946 non-null   object \n 15  MOBILE_LOGINS                 1946 non-null   int64  \n 16  PC_LOGINS                     1946 non-null   int64  \n 17  WEEKLY_PLAN                   1946 non-null   int64  \n 18  EARLY_DELIVERIES              1946 non-null   int64  \n 19  LATE_DELIVERIES               1946 non-null   int64  \n 20  PACKAGE_LOCKER                1946 non-null   object \n 21  REFRIGERATED_LOCKER           1946 non-null   object \n 22  FOLLOWED_RECOMMENDATIONS_PCT  1946 non-null   int64  \n 23  AVG_PREP_VID_TIME             1946 non-null   float64\n 24  LARGEST_ORDER_SIZE            1946 non-null   int64  \n 25  MASTER_CLASSES_ATTENDED       1946 non-null   int64  \n 26  MEDIAN_MEAL_RATING            1946 non-null   int64  \n 27  AVG_CLICKS_PER_VISIT          1946 non-null   float64\n 28  TOTAL_PHOTOS_VIEWED           1946 non-null   int64  \ndtypes: float64(4), int64(16), object(9)\nmemory usage: 441.0+ KB\nNone\n"
     ]
    }
   ],
   "source": [
    "type_dict = {'REVENUE':                         'float64',  # Revenue by client, numerical\n",
    "             'CROSS_SELL_SUCCESS':              'int64',   # Whether a client has purchased the other service, binary categorical\n",
    "             'NAME':                            'object',   # Full name of client, string\n",
    "             'EMAIL':                           'object',   # Email provided by client, string\n",
    "             'FIRST_NAME':                      'object',   # First name of client, string\n",
    "             'FAMILY_NAME':                     'object',   # Any other names of client, string\n",
    "             'TOTAL_MEALS_ORDERED':             'int64',    # Number of meals ordered, integer\n",
    "             'UNIQUE_MEALS_PURCH':              'int64',    # Number of unique meals ordered, integer\n",
    "             'CONTACTS_W_CUSTOMER_SERVICE':     'int64',    # How many times the client contacted customer service, integer \n",
    "             'PRODUCT_CATEGORIES_VIEWED':       'int64',    # How many different meals the client has viewed, integer\n",
    "             'AVG_TIME_PER_SITE_VISIT':         'float64',  # How long a client spends on the site per visit, float\n",
    "             'MOBILE_NUMBER':                   'int64',   # Whether a client has registered a mobile phone number, binary categorical\n",
    "             'CANCELLATIONS_BEFORE_NOON':       'int64',    # How many times a client has cancelled their order before noon, integer\n",
    "             'CANCELLATIONS_AFTER_NOON':        'int64',    # How many times a client has cancelled their order after noon, integer\n",
    "             'TASTES_AND_PREFERENCES':          'int64',   # Whether a client has specified their preferences, binary categorical\n",
    "             'MOBILE_LOGINS':                   'int64',    # How many times the client has logged in from a mobile device, integer\n",
    "             'PC_LOGINS':                       'int64',    # How many times the client has logged in from other devices, integer\n",
    "             'WEEKLY_PLAN':                     'int64',    # Number of times the client has ordered the weekly plan, integer\n",
    "             'EARLY_DELIVERIES':                'int64',    # Number of times the client has received an early delivery, integer\n",
    "             'LATE_DELIVERIES':                 'int64',    # Number of timee the client has received a late delivery, integer\n",
    "             'PACKAGE_LOCKER':                  'int64',   # If the client has a package room, binary categorical\n",
    "             'REFRIGERATED_LOCKER':             'int64',   # If the package room is refrigerated, binary categorical\n",
    "             'FOLLOWED_RECOMMENDATIONS_PCT':    'int64',    # How often the client followed the meal recommendations, integer\n",
    "             'AVG_PREP_VID_TIME':               'float64',  # How long the client watches prep videos on average, float\n",
    "             'LARGEST_ORDER_SIZE':              'int64',    # Largest number of meals in one order, integer\n",
    "             'MASTER_CLASSES_ATTENDED':         'int64',    # How many classes the client has attended, integer\n",
    "             'MEDIAN_MEAL_RATING':              'int64',    # The median rating given by client, integer\n",
    "             'AVG_CLICKS_PER_VISIT':            'float64',  # How many clicks per visit on average, float\n",
    "             'TOTAL_PHOTOS_VIEWED':             'int64'     # How many photos the client has viewed, integer\n",
    "             }\n",
    "\n",
    "dataset = dataset.astype(type_dict)\n",
    "print(dataset.info())                   # Checking that they are now the correct datatypes"
   ]
  },
  {
   "source": [
    "Now I want to go through the variables to see if there is anything we can do with them. These are the ones I want to do something with, and what I want to do:\n",
    "\n",
    "* Name\n",
    "    * I want to count how many parts the name has.\n",
    "    * I want to remove all parts of a name inside parentheses, but I will first flag that the name has parentheses.\n",
    "\n",
    "* Email\n",
    "    * Because the email adresses are in the format of 'Name' + domain I will only look at the domain since the name is it's own variable.\n",
    "\n",
    "    * For the domains I will split them into the groups given in the case description: professional, personal, and junk.\n",
    "\n",
    "* Weekly Plan\n",
    "    * I'll see if I can feature the discounts provided by ordering a weekly set, though I think it might show itself by itself.\n",
    "\n",
    "* Revenue, Total Meals, Unique Meals\n",
    "    * For the classification task I will try to use the provided meal and beverages tables to see if I can get any insight there. Perhaps a client has trends that make them more likely to go for the cross-sell.\n"
   ],
   "cell_type": "markdown",
   "metadata": {}
  },
  {
   "cell_type": "code",
   "execution_count": 5,
   "metadata": {},
   "outputs": [],
   "source": [
    "import re\n",
    "def has_character(string, character):\n",
    "    \"\"\" A check to see if the 'character' is in the 'string'.\n",
    "    \n",
    "    :param string: The string to check.\n",
    "    :param character: The character to match.\n",
    "\n",
    "    :return: 1 if the character is found, 0 otherwise.\n",
    "\n",
    "    >>> has_character(\"Aegon Targaryen (son of Rhaegar)\", \"(\")\n",
    "    1\n",
    "\n",
    "    \"\"\"\n",
    "\n",
    "    if character in string: return 1\n",
    "    else: return 0\n"
   ]
  },
  {
   "cell_type": "code",
   "execution_count": 7,
   "metadata": {},
   "outputs": [],
   "source": [
    "## Flagging names with parentheses\n",
    "\n",
    "dataset['parentheses'] = [has_character(name, \"(\") for name in dataset['NAME']]"
   ]
  },
  {
   "cell_type": "code",
   "execution_count": 9,
   "metadata": {},
   "outputs": [],
   "source": [
    "dataset.to_csv(\"Datasets/test.csv\", index=False)"
   ]
  }
 ]
}